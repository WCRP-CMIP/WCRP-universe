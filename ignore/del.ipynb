{
 "cells": [
  {
   "cell_type": "code",
   "execution_count": null,
   "metadata": {},
   "outputs": [],
   "source": [
    "from pyld import jsonld \n",
    "import json\n",
    "import os \n"
   ]
  },
  {
   "cell_type": "code",
   "execution_count": null,
   "metadata": {},
   "outputs": [],
   "source": [
    "kind = 'linktest/'\n",
    "file = 'test1'\n",
    "loc = 'https://wcrp-cmip.github.io/WCRP-universe/'\n",
    "\n",
    "\n",
    "print(f'{loc}{kind}{file}')\n"
   ]
  },
  {
   "cell_type": "code",
   "execution_count": null,
   "metadata": {},
   "outputs": [],
   "source": [
    "jsonld.expand(f'{loc}{kind}{file}')"
   ]
  },
  {
   "cell_type": "code",
   "execution_count": null,
   "metadata": {},
   "outputs": [],
   "source": [
    "# (f'{loc}{kind}{file}')['document']"
   ]
  },
  {
   "cell_type": "code",
   "execution_count": null,
   "metadata": {},
   "outputs": [],
   "source": [
    "loader = jsonld.requests_document_loader()\n",
    "\n",
    "def cpct(link):\n",
    "    content = loader(link)['document']\n",
    "    ctx = loader(content['@context'])['document']\n",
    "    \n",
    "    \n",
    "    \n",
    "    \n",
    "    return jsonld.expand(content,ctx)\n",
    "\n",
    "cpct((f'{loc}{kind}{file}'))"
   ]
  },
  {
   "cell_type": "code",
   "execution_count": null,
   "metadata": {},
   "outputs": [],
   "source": [
    "link = f'{loc}{kind}{file}'\n",
    "content = loader(link)['document']\n",
    "content0 = loader(link)['document']\n",
    "ctx0 = loader(content['@context'])['document']\n",
    "ct2 = loader('https://wcrp-cmip.github.io/WCRP-universe/realm/_context')['document']\n",
    "del ct2['@embed']\n",
    "ctx = {'@context': {\n",
    "          '@base': 'https://wcrp-cmip.github.io/WCRP-universe/linktest/',\n",
    "          '@vocab': 'https://wcrp-cmip.github.io/WCRP-universe/linktest/',\n",
    "          'id': '@id',\n",
    "          'type': '@type',\n",
    "          'universe': 'https://wcrp-cmip.github.io/WCRP-universe/',\n",
    "          'realm': {'@container': '@id',\n",
    "                    '@context': 'https://wcrp-cmip.github.io/WCRP-universe/realm/_context'\n",
    "                    },\n",
    "          'realm2': \n",
    "            ct2\n",
    "            # {\n",
    "            #         /'@context': 'https://wcrp-cmip.github.io/WCRP-universe/realm/_context'\n",
    "            #         }\n",
    "          },\n",
    "        '@embed': '@always'}\n",
    "\n",
    "content['@context'] = ctx['@context']\n",
    "# content['realm']['atmos']['@context'] ='https://wcrp-cmip.github.io/WCRP-universe/realm/_context'\n",
    "\n",
    "\n",
    "print(json.dumps(ctx0,indent=4))\n"
   ]
  },
  {
   "cell_type": "code",
   "execution_count": null,
   "metadata": {},
   "outputs": [],
   "source": [
    "# jsonld.compact(content,ctx)\n",
    "\n",
    "jsonld.compact(link,ctx0)"
   ]
  },
  {
   "cell_type": "code",
   "execution_count": null,
   "metadata": {},
   "outputs": [],
   "source": [
    "# jsonld.expand('https://wcrp-cmip.github.io/WCRP-universe/realm/atmoschem')"
   ]
  },
  {
   "cell_type": "code",
   "execution_count": null,
   "metadata": {},
   "outputs": [],
   "source": [
    "# content0['@context'] = ctx0['@context']\n",
    "jsonld.compact(content0,ctx0['@context'])"
   ]
  },
  {
   "cell_type": "code",
   "execution_count": null,
   "metadata": {},
   "outputs": [],
   "source": [
    "jsonld.expand(link,ctx0['@context'])\n"
   ]
  },
  {
   "cell_type": "code",
   "execution_count": null,
   "metadata": {},
   "outputs": [],
   "source": [
    "import re\n",
    "loader = jsonld.requests_document_loader()\n",
    "\n",
    "# Recursively expand and resolve @id fields containing URLs\n",
    "def recursive_expand(jsonld_doc,compact=True,child=False):\n",
    "    print('!!',jsonld_doc, include_ctx, compact)\n",
    "    \n",
    "    # loader = jsonld.requests_default_loader\n",
    "    # MAKE a loader with caching capabilities\n",
    "    # # Expand the current document using pyld\n",
    "    ldfile = loader(jsonld_doc)['document']\n",
    "    \n",
    "    expanded_doc = jsonld.expand(jsonld_doc,options={'defaultLoader': loader})\n",
    "    \n",
    "    # Recursively check for any @id fields containing URLs\n",
    "    for i,item in enumerate(expanded_doc):\n",
    "    \n",
    "        item = recursive_resolve_ids(item,compact).copy()\n",
    "        \n",
    "        # if compact:\n",
    "            # include_ctx = True\n",
    "        if not child:\n",
    "            item = jsonld.compact(item, ldfile['@context'],options={'base': base(jsonld_doc)})\n",
    "            \n",
    "        # if include_ctx:\n",
    "        #     item['@context'] = ldfile['@context']\n",
    "        \n",
    "        # manual fix for the context\n",
    "        expanded_doc[i] = json.loads(re.sub(r'\"context\"', '\"@context\"', json.dumps(item)))\n",
    "        print('---------------')\n",
    "\n",
    "    return expanded_doc\n",
    "\n",
    "# Helper function to recursively resolve @id fields in the document\n",
    "def recursive_resolve_ids(data,compact):\n",
    "    if isinstance(data, dict):\n",
    "        # If an @id field with a URL is found, fetch and expand the content\n",
    "        # do not create an infinte loop if type exists. \n",
    "        if not '@type' in data and '@id' in data and data['@id'].startswith(\"http\"):\n",
    "            expanded_external_data = recursive_expand(data['@id'],compact,True)  # Recursive call to expand \n",
    "            print(expanded_external_data)\n",
    "            # expanded_external_data[0].update(data)\n",
    "            data = expanded_external_data[0]\n",
    "            \n",
    "            # data['context'] = data['@context']\n",
    "            # merge other data \n",
    "            \n",
    "        for key, value in data.items():\n",
    "                data[key] = recursive_resolve_ids(value,compact)\n",
    "\n",
    "    elif isinstance(data, list):\n",
    "        # Process lists recursively\n",
    "        data = [recursive_resolve_ids(item,compact) for item in data]\n",
    "        \n",
    "    return data\n",
    "\n",
    "def base(link):\n",
    "    n = link.count('/')\n",
    "    return link.rsplit('/',n-3)[0]"
   ]
  },
  {
   "cell_type": "code",
   "execution_count": null,
   "metadata": {},
   "outputs": [],
   "source": [
    "recursive_expand(link,compact=True)"
   ]
  },
  {
   "cell_type": "code",
   "execution_count": null,
   "metadata": {},
   "outputs": [],
   "source": [
    "rexp = recursive_expand(link,compact=False)\n",
    "jsonld.compact(rexp,rexp[0]['@context'])"
   ]
  },
  {
   "cell_type": "code",
   "execution_count": null,
   "metadata": {},
   "outputs": [],
   "source": [
    "jsonld.to_rdf(rexp)"
   ]
  },
  {
   "cell_type": "code",
   "execution_count": null,
   "metadata": {},
   "outputs": [],
   "source": []
  },
  {
   "cell_type": "markdown",
   "metadata": {},
   "source": [
    "dklja\n"
   ]
  },
  {
   "cell_type": "code",
   "execution_count": null,
   "metadata": {},
   "outputs": [],
   "source": [
    "\n",
    "\n",
    "import json\n",
    "import re\n",
    "from typing import Any, Dict, List, Union\n",
    "from functools import lru_cache\n",
    "from pyld import jsonld\n",
    "\n",
    "class JsonLdProcessor:\n",
    "    \"\"\"\n",
    "    A class for processing JSON-LD documents with recursive expansion and ID resolution.\n",
    "    \n",
    "    Features:\n",
    "    - Recursively expands and resolves @id fields containing URLs\n",
    "    - Handles document caching\n",
    "    - Supports compact and expanded document formats\n",
    "    - Maintains context handling\n",
    "    \"\"\"\n",
    "    \n",
    "    def __init__(self):\n",
    "        \"\"\"Initialize the processor with a cached document loader.\"\"\"\n",
    "        self.loader = jsonld.requests_document_loader()\n",
    "    \n",
    "    @staticmethod\n",
    "    def _extract_base_url(url: str) -> str:\n",
    "        \"\"\"\n",
    "        Extract the base URL from a full URL path.\n",
    "        \n",
    "        Args:\n",
    "            url: The full URL to process\n",
    "            \n",
    "        Returns:\n",
    "            The base URL containing protocol and domain\n",
    "        \"\"\"\n",
    "        parts = url.split('/')\n",
    "        return '/'.join(parts[:3])\n",
    "    \n",
    "    @lru_cache(maxsize=100)\n",
    "    def _load_document(self, url: str) -> Dict:\n",
    "        \"\"\"\n",
    "        Load and cache a JSON-LD document from a URL.\n",
    "        \n",
    "        Args:\n",
    "            url: The URL to fetch the document from\n",
    "            \n",
    "        Returns:\n",
    "            The loaded document\n",
    "        \"\"\"\n",
    "        return self.loader(url)['document']\n",
    "    \n",
    "    def _resolve_ids(self, \n",
    "                     data: Union[Dict, List], \n",
    "                     compact: bool = True) -> Union[Dict, List]:\n",
    "        \"\"\"\n",
    "        Recursively resolve @id fields in the document.\n",
    "        \n",
    "        Args:\n",
    "            data: The data structure to process\n",
    "            include_ctx: Whether to include context in the result\n",
    "            compact: Whether to compact the resulting document\n",
    "            \n",
    "        Returns:\n",
    "            The processed data structure with resolved IDs\n",
    "        \"\"\"\n",
    "        if isinstance(data, dict):\n",
    "            # Only process @id fields that don't have a @type and start with http\n",
    "            if '@id' in data and not '@type' in data and data['@id'].startswith('http'):\n",
    "                expanded = self.expand_document(\n",
    "                    data['@id'],\n",
    "                    compact=compact,\n",
    "                    is_nested=True\n",
    "                )\n",
    "                if expanded:\n",
    "                    data = expanded[0]\n",
    "            \n",
    "            # Process all dictionary values recursively\n",
    "            return {\n",
    "                key: self._resolve_ids(value, compact)\n",
    "                for key, value in data.items()\n",
    "            }\n",
    "        \n",
    "        elif isinstance(data, list):\n",
    "            return [self._resolve_ids(item, compact) for item in data]\n",
    "        \n",
    "        return data\n",
    "    \n",
    "    def expand_document(self,\n",
    "                       jsonld_doc: Union[str, Dict],\n",
    "                       compact: bool = True,\n",
    "                       expand_ctx: bool = True,\n",
    "                       expand_links: bool = True,\n",
    "                       is_nested: bool = False) -> List[Dict]:\n",
    "        \"\"\"\n",
    "        Expand a JSON-LD document and resolve all referenced URLs.\n",
    "        \n",
    "        Args:\n",
    "            jsonld_doc: The JSON-LD document to process (URL or dict)\n",
    "            include_ctx: Whether to include context in the result\n",
    "            compact: Whether to compact the final document\n",
    "            is_nested: Whether this is a nested expansion\n",
    "            \n",
    "        Returns:\n",
    "            List of processed documents\n",
    "        \"\"\"\n",
    "        # Load and expand the document\n",
    "        doc = self._load_document(jsonld_doc) if isinstance(jsonld_doc, str) else jsonld_doc\n",
    "        expanded = jsonld.expand(jsonld_doc, options={'defaultLoader': self.loader})\n",
    "        \n",
    "        # Process each item in the expanded document\n",
    "        processed = []\n",
    "        for item in expanded:\n",
    "            if expand_links:\n",
    "                processed_item = self._resolve_ids(item, compact).copy()\n",
    "            else:\n",
    "                processed_item = item.copy()\n",
    "            \n",
    "            # Handle compaction for root-level documents\n",
    "            if compact and not is_nested:\n",
    "                base_url = self._extract_base_url(jsonld_doc) if isinstance(jsonld_doc, str) else None\n",
    "                processed_item = jsonld.compact(\n",
    "                    processed_item,\n",
    "                    doc['@context'],\n",
    "                    options={'base': base_url} if base_url else {}\n",
    "                )\n",
    "            \n",
    "            # Fix context notation if needed\n",
    "            if isinstance(processed_item, dict):\n",
    "                processed_item = json.loads(\n",
    "                    re.sub(r'\"context\"', '\"@context\"', json.dumps(processed_item))\n",
    "                )\n",
    "            \n",
    "            if expand_ctx and '@context' in processed_item and isinstance(processed_item['@context'], str):\n",
    "                processed_item['@context'] = self.loader(processed_item['@context'])['document']\n",
    "                \n",
    "                \n",
    "            processed.append(processed_item)\n",
    "            \n",
    "            \n",
    "        \n",
    "        return processed"
   ]
  },
  {
   "cell_type": "code",
   "execution_count": null,
   "metadata": {},
   "outputs": [],
   "source": [
    "import cmipld\n",
    "\n",
    "processor = cmipld.JsonLdProcessor()"
   ]
  },
  {
   "cell_type": "code",
   "execution_count": null,
   "metadata": {},
   "outputs": [],
   "source": [
    "\n",
    "result = processor.expand_document(link,compact=True,expand_ctx=False)\n",
    "print(json.dumps(result,indent=4))"
   ]
  },
  {
   "cell_type": "code",
   "execution_count": null,
   "metadata": {},
   "outputs": [],
   "source": [
    "result = processor.expand_document(link,compact=True,expand_ctx=False,expand_links=False)\n",
    "print(json.dumps(result,indent=4))"
   ]
  },
  {
   "cell_type": "code",
   "execution_count": null,
   "metadata": {},
   "outputs": [],
   "source": [
    "import pprint\n",
    "pprint.pprint(jsonld.compact(result,result[0]['@context']))"
   ]
  },
  {
   "cell_type": "code",
   "execution_count": null,
   "metadata": {},
   "outputs": [],
   "source": [
    "jsonld.compact(link,{'@context': {\"_\": \"https://wcrp-cmip.github.io/WCRP-universe/linktest/\"}})"
   ]
  },
  {
   "cell_type": "code",
   "execution_count": null,
   "metadata": {},
   "outputs": [],
   "source": [
    "from urllib.parse import urljoin\n",
    "\n",
    "def depends(link,relative=False):\n",
    "    \n",
    "    ids = jsonld.frame(link,{'@explicit': True})['@graph']\n",
    "    if relative:\n",
    "        return set([i['@id'] for i in ids])\n",
    "    else:\n",
    "        return set([urljoin(link,i['@id']) for i in ids])\n",
    "\n",
    "depends(link)"
   ]
  },
  {
   "cell_type": "code",
   "execution_count": null,
   "metadata": {},
   "outputs": [],
   "source": [
    "def simple_load(link):\n",
    "    # basic compact\n",
    "    data = loader(link)['document']\n",
    "    \n",
    "    ctx = loader(data['@context'])['document']\n",
    "    \n",
    "    print(ctx)\n",
    "    \n",
    "    return jsonld.compact(link,ctx)\n",
    "\n",
    "simple_load(link)"
   ]
  },
  {
   "cell_type": "code",
   "execution_count": null,
   "metadata": {},
   "outputs": [],
   "source": []
  },
  {
   "cell_type": "code",
   "execution_count": null,
   "metadata": {},
   "outputs": [],
   "source": [
    "jsonld.to_rdf(link)"
   ]
  },
  {
   "cell_type": "code",
   "execution_count": null,
   "metadata": {},
   "outputs": [],
   "source": [
    "jsonld.compact('https://wcrp-cmip.github.io/WCRP-universe/linktest/graph.jsonld','https://wcrp-cmip.github.io/WCRP-universe/linktest/_context')\n"
   ]
  },
  {
   "cell_type": "code",
   "execution_count": null,
   "metadata": {},
   "outputs": [],
   "source": [
    "jsonld.frame('https://wcrp-cmip.github.io/WCRP-universe/linktest/graph.jsonld',{'@graph':{}})"
   ]
  },
  {
   "cell_type": "code",
   "execution_count": null,
   "metadata": {},
   "outputs": [],
   "source": [
    "jsonld.expand('https://wcrp-cmip.github.io/WCRP-universe/linktest/graph.jsonld',{'@graph':{}})"
   ]
  },
  {
   "cell_type": "code",
   "execution_count": null,
   "metadata": {},
   "outputs": [],
   "source": [
    "# script groups jsonld files into a single file\n",
    "# jsonld.compact('https://wcrp-cmip.github.io/WCRP-universe/linktest/graph.min.jsonld','https://wcrp-cmip.github.io/WCRP-universe/linktest/_context')\n",
    "# graphs files should not have multiple contexts. (only one overarching one.)\n",
    "\n",
    "\n",
    "# broken link checker. \n",
    "# JSLD checker. "
   ]
  },
  {
   "cell_type": "code",
   "execution_count": null,
   "metadata": {},
   "outputs": [],
   "source": [
    "jsonld.compact('https://wcrp-cmip.github.io/WCRP-universe/linktest/test2',['https://wcrp-cmip.github.io/WCRP-universe/linktest/_context','https://wcrp-cmip.github.io/WCRP-universe/_globalcontext'])\n",
    "\n",
    "\n"
   ]
  },
  {
   "cell_type": "code",
   "execution_count": null,
   "metadata": {},
   "outputs": [],
   "source": [
    "# jsonld.expand('https://wcrp-cmip.github.io/WCRP-universe/graph.jsonld')\n",
    "\n",
    "updatejson"
   ]
  },
  {
   "cell_type": "code",
   "execution_count": null,
   "metadata": {},
   "outputs": [],
   "source": [
    "from cmipld import JsonLdProcessor\n",
    "processor = JsonLdProcessor()\n",
    "data = processor.get('https://raw.githubusercontent.com/WCRP-CMIP/CMIP6Plus_CVs/refs/heads/production/src-data/experiment/abrupt_4xco2.json')[0]\n",
    "\n",
    "del data['@context']\n",
    "data['te'] = {'aer': {},\n",
    "  'aogcm': {},\n",
    "  'bgc': {},\n",
    "  'chem': {}}\n",
    "\n",
    "data"
   ]
  },
  {
   "cell_type": "code",
   "execution_count": null,
   "metadata": {},
   "outputs": [],
   "source": []
  },
  {
   "cell_type": "code",
   "execution_count": null,
   "metadata": {},
   "outputs": [],
   "source": [
    "jsonld.compact('https://wcrp-cmip.github.io/CMIP6Plus_CVs/project_definition.json','https://wcrp-cmip.github.io/CMIP6Plus_CVs/_context')"
   ]
  },
  {
   "cell_type": "code",
   "execution_count": null,
   "metadata": {},
   "outputs": [],
   "source": [
    "from cmipld import JsonLdProcessor\n",
    "processor = JsonLdProcessor()\n",
    "processor.expand_document('https://wcrp-cmip.github.io/CMIP6Plus_CVs/project_definition.json',compact=True,expand_ctx=True,no_ctx=False,pprint=True)"
   ]
  },
  {
   "cell_type": "code",
   "execution_count": null,
   "metadata": {},
   "outputs": [],
   "source": [
    "from pyld import jsonld"
   ]
  },
  {
   "cell_type": "code",
   "execution_count": null,
   "metadata": {},
   "outputs": [],
   "source": [
    "jsonld.expand('https://WCRP-CMIP.github.io/WCRP-universe/graph')"
   ]
  },
  {
   "cell_type": "code",
   "execution_count": null,
   "metadata": {},
   "outputs": [],
   "source": [
    "processor.expand_document('https://WCRP-CMIP.github.io/WCRP-universe/graph.jsonld',compact=False,expand_ctx=True,no_ctx=False,pprint=True)"
   ]
  },
  {
   "cell_type": "code",
   "execution_count": null,
   "metadata": {},
   "outputs": [],
   "source": [
    "jsonld.compact('https://WCRP-CMIP.github.io/WCRP-universe/mip/graph.jsonld','https://WCRP-CMIP.github.io/cmip6plus_cvs/_context')"
   ]
  },
  {
   "cell_type": "code",
   "execution_count": null,
   "metadata": {},
   "outputs": [],
   "source": [
    "jsonld.expand('https://wcrp-cmip.github.io/CMIP6Plus_CVs/source/giss_e2_1_g.json') #    ,{})['@graph'][0]"
   ]
  },
  {
   "cell_type": "code",
   "execution_count": null,
   "metadata": {},
   "outputs": [],
   "source": [
    "jsonld.frame('https://wcrp-cmip.github.io/WCRP-universe/mip/cmip6.json',\"https://wcrp-cmip.github.io/WCRP-universe/mip/cmip6.json\")"
   ]
  },
  {
   "cell_type": "markdown",
   "metadata": {},
   "source": []
  },
  {
   "cell_type": "code",
   "execution_count": null,
   "metadata": {},
   "outputs": [],
   "source": [
    "jsonld.compact('https://wcrp-cmip.github.io/WCRP-universe/realm/atmos.json','https://wcrp-cmip.github.io/WCRP-universe/realm/_context_')"
   ]
  },
  {
   "cell_type": "code",
   "execution_count": null,
   "metadata": {},
   "outputs": [],
   "source": [
    "import cmipld\n",
    "\n",
    "processor = cmipld.JsonLdProcessor()"
   ]
  },
  {
   "cell_type": "code",
   "execution_count": null,
   "metadata": {},
   "outputs": [],
   "source": [
    "doc = processor._load_document('https://wcrp-cmip.github.io/WCRP-universe/realm/atmos.json')\n",
    "doc"
   ]
  },
  {
   "cell_type": "code",
   "execution_count": null,
   "metadata": {},
   "outputs": [],
   "source": [
    "processor.expand_document('https://wcrp-cmip.github.io/WCRP-universe/realm/graph.jsonld',compact=False,expand_ctx=True,expand_links=False)"
   ]
  },
  {
   "cell_type": "code",
   "execution_count": null,
   "metadata": {},
   "outputs": [],
   "source": [
    "jsonld.expand('https://wcrp-cmip.github.io/WCRP-universe/realm/graph.jsonld')"
   ]
  },
  {
   "cell_type": "code",
   "execution_count": null,
   "metadata": {},
   "outputs": [],
   "source": [
    "# jsonld.frame({\n",
    "#   \"@context\": {\n",
    "#   \"@base\": \"https://wcrp-cmip.github.io/WCRP-universe/realm/\",\n",
    "#   \"@vocab\": \"https://wcrp-cmip.github.io/WCRP-universe/realm/\",\n",
    "#   \"id\": \"@id\",\n",
    "#   \"type\": \"@type\",\n",
    "#   \"cf\": \"https:/wcrp-cmip.github.io/WCRP-CMIP/CF/\",\n",
    "#   \"cmip6plus\": \"https:/wcrp-cmip.github.io/CMIP6Plus_CVs/\",\n",
    "#   \"cmip7\": \"https:/wcrp-cmip.github.io/CMIP7_CVs/\",\n",
    "#   \"mip-variables\": \"https://wcrp-cmip.github.io/MIPvariables/\",\n",
    "#   \"wcrp-universe\": \"https:/wcrp-cmip.github.io/WCRP-universe/\"\n",
    "# },\n",
    "\n",
    "#   \"@graph\": [\n",
    "#     {\n",
    "#   \"description\": \"Aerosol\",\n",
    "#   \"id\": \"aerosol\",\n",
    "#   \"name\": \"aerosol\",\n",
    "#   \"type\": \"realm\"\n",
    "# }\n",
    "#     ,{\n",
    "#   \"description\": \"Atmosphere\",\n",
    "#   \"id\": \"atmos\",\n",
    "#   \"name\": \"atmos\",\n",
    "#   \"type\": \"realm\"\n",
    "# }\n",
    "#   ]},\n",
    "# {  \"@context\": {\n",
    "#   \"@base\": \"https://wcrp-cmip.github.io/WCRP-universe/realm/\",\n",
    "#   \"@vocab\": \"https://wcrp-cmip.github.io/WCRP-universe/realm/\",\n",
    "#     \"id\": \"@id\",\n",
    "#   \"type\": \"@type\",\n",
    "#   },\n",
    "#   '@id': 'https://wcrp-cmip.github.io/WCRP-universe/realm/atmos',\"@embed\": \"@always\"})"
   ]
  },
  {
   "cell_type": "code",
   "execution_count": null,
   "metadata": {},
   "outputs": [],
   "source": [
    "inputDocument = {\n",
    "  \"@context\": {\n",
    "    \"@base\": \"https://wcrp-cmip.github.io/WCRP-universe/realm/\",\n",
    "    \"@vocab\": \"https://wcrp-cmip.github.io/WCRP-universe/realm/\",\n",
    "    \"id\": \"@id\",\n",
    "    \"type\": \"@type\",\n",
    "    \"cf\": \"https:/wcrp-cmip.github.io/WCRP-CMIP/CF/\",\n",
    "    \"cmip6plus\": \"https:/wcrp-cmip.github.io/CMIP6Plus_CVs/\",\n",
    "    \"cmip7\": \"https:/wcrp-cmip.github.io/CMIP7_CVs/\",\n",
    "    \"mip-variables\": \"https://wcrp-cmip.github.io/MIPvariables/\",\n",
    "    \"wcrp-universe\": \"https:/wcrp-cmip.github.io/WCRP-universe/\"\n",
    "  },\n",
    "  \"@graph\": [\n",
    "    {\n",
    "      \"description\": \"Aerosol\",\n",
    "      \"id\": \"aerosol\",\n",
    "      \"name\": \"aerosol\",\n",
    "      \"type\": \"realm\"\n",
    "    },\n",
    "    {\n",
    "      \"description\": \"Atmosphere\",\n",
    "      \"@id\": \"https://wcrp-cmip.github.io/WCRP-universe/realm/atmos\",\n",
    "      \"name\": \"atmos\",\n",
    "      \"type\": \"realm\"\n",
    "    }\n",
    "  ]\n",
    "}\n",
    "\n",
    "frame = {\n",
    "  \"@context\": {\n",
    "    \"@base\": \"https://wcrp-cmip.github.io/WCRP-universe/realm/\",\n",
    "    \"@vocab\": \"https://wcrp-cmip.github.io/WCRP-universe/realm/\"\n",
    "  },\n",
    "  \"@id\": \"https://wcrp-cmip.github.io/WCRP-universe/realm/atmos\", \n",
    "  \"@embed\": \"@always\",\n",
    "  \"@explicit\": False\n",
    "}\n",
    "\n",
    "\n",
    "\n",
    "jsonld.expand(inputDocument)\n",
    "\n"
   ]
  },
  {
   "cell_type": "code",
   "execution_count": null,
   "metadata": {},
   "outputs": [],
   "source": [
    "jsonld.frame(inputDocument, frame)"
   ]
  },
  {
   "cell_type": "code",
   "execution_count": null,
   "metadata": {},
   "outputs": [],
   "source": []
  },
  {
   "cell_type": "code",
   "execution_count": 109,
   "metadata": {},
   "outputs": [
    {
     "ename": "JsonLdError",
     "evalue": "('Could not retrieve a JSON-LD document from the URL.',)\nType: jsonld.LoadDocumentError\nCode: loading document failed\nCause: Expecting value: line 1 column 1 (char 0)  File \"/Users/daniel.ellis/customlib/homebrew/Caskroom/mambaforge/base/lib/python3.10/site-packages/pyld/documentloader/requests.py\", line 72, in loader\n    'document': response.json()\n  File \"/Users/daniel.ellis/customlib/homebrew/Caskroom/mambaforge/base/lib/python3.10/site-packages/requests/models.py\", line 978, in json\n    raise RequestsJSONDecodeError(e.msg, e.doc, e.pos)\n",
     "output_type": "error",
     "traceback": [
      "\u001b[0;31m---------------------------------------------------------------------------\u001b[0m",
      "\u001b[0;31mJSONDecodeError\u001b[0m                           Traceback (most recent call last)",
      "File \u001b[0;32m~/customlib/homebrew/Caskroom/mambaforge/base/lib/python3.10/site-packages/requests/models.py:974\u001b[0m, in \u001b[0;36mResponse.json\u001b[0;34m(self, **kwargs)\u001b[0m\n\u001b[1;32m    973\u001b[0m \u001b[38;5;28;01mtry\u001b[39;00m:\n\u001b[0;32m--> 974\u001b[0m     \u001b[38;5;28;01mreturn\u001b[39;00m \u001b[43mcomplexjson\u001b[49m\u001b[38;5;241;43m.\u001b[39;49m\u001b[43mloads\u001b[49m\u001b[43m(\u001b[49m\u001b[38;5;28;43mself\u001b[39;49m\u001b[38;5;241;43m.\u001b[39;49m\u001b[43mtext\u001b[49m\u001b[43m,\u001b[49m\u001b[43m \u001b[49m\u001b[38;5;241;43m*\u001b[39;49m\u001b[38;5;241;43m*\u001b[39;49m\u001b[43mkwargs\u001b[49m\u001b[43m)\u001b[49m\n\u001b[1;32m    975\u001b[0m \u001b[38;5;28;01mexcept\u001b[39;00m JSONDecodeError \u001b[38;5;28;01mas\u001b[39;00m e:\n\u001b[1;32m    976\u001b[0m     \u001b[38;5;66;03m# Catch JSON-related errors and raise as requests.JSONDecodeError\u001b[39;00m\n\u001b[1;32m    977\u001b[0m     \u001b[38;5;66;03m# This aliases json.JSONDecodeError and simplejson.JSONDecodeError\u001b[39;00m\n",
      "File \u001b[0;32m~/customlib/homebrew/Caskroom/mambaforge/base/lib/python3.10/json/__init__.py:346\u001b[0m, in \u001b[0;36mloads\u001b[0;34m(s, cls, object_hook, parse_float, parse_int, parse_constant, object_pairs_hook, **kw)\u001b[0m\n\u001b[1;32m    343\u001b[0m \u001b[38;5;28;01mif\u001b[39;00m (\u001b[38;5;28mcls\u001b[39m \u001b[38;5;129;01mis\u001b[39;00m \u001b[38;5;28;01mNone\u001b[39;00m \u001b[38;5;129;01mand\u001b[39;00m object_hook \u001b[38;5;129;01mis\u001b[39;00m \u001b[38;5;28;01mNone\u001b[39;00m \u001b[38;5;129;01mand\u001b[39;00m\n\u001b[1;32m    344\u001b[0m         parse_int \u001b[38;5;129;01mis\u001b[39;00m \u001b[38;5;28;01mNone\u001b[39;00m \u001b[38;5;129;01mand\u001b[39;00m parse_float \u001b[38;5;129;01mis\u001b[39;00m \u001b[38;5;28;01mNone\u001b[39;00m \u001b[38;5;129;01mand\u001b[39;00m\n\u001b[1;32m    345\u001b[0m         parse_constant \u001b[38;5;129;01mis\u001b[39;00m \u001b[38;5;28;01mNone\u001b[39;00m \u001b[38;5;129;01mand\u001b[39;00m object_pairs_hook \u001b[38;5;129;01mis\u001b[39;00m \u001b[38;5;28;01mNone\u001b[39;00m \u001b[38;5;129;01mand\u001b[39;00m \u001b[38;5;129;01mnot\u001b[39;00m kw):\n\u001b[0;32m--> 346\u001b[0m     \u001b[38;5;28;01mreturn\u001b[39;00m \u001b[43m_default_decoder\u001b[49m\u001b[38;5;241;43m.\u001b[39;49m\u001b[43mdecode\u001b[49m\u001b[43m(\u001b[49m\u001b[43ms\u001b[49m\u001b[43m)\u001b[49m\n\u001b[1;32m    347\u001b[0m \u001b[38;5;28;01mif\u001b[39;00m \u001b[38;5;28mcls\u001b[39m \u001b[38;5;129;01mis\u001b[39;00m \u001b[38;5;28;01mNone\u001b[39;00m:\n",
      "File \u001b[0;32m~/customlib/homebrew/Caskroom/mambaforge/base/lib/python3.10/json/decoder.py:337\u001b[0m, in \u001b[0;36mJSONDecoder.decode\u001b[0;34m(self, s, _w)\u001b[0m\n\u001b[1;32m    333\u001b[0m \u001b[38;5;250m\u001b[39m\u001b[38;5;124;03m\"\"\"Return the Python representation of ``s`` (a ``str`` instance\u001b[39;00m\n\u001b[1;32m    334\u001b[0m \u001b[38;5;124;03mcontaining a JSON document).\u001b[39;00m\n\u001b[1;32m    335\u001b[0m \n\u001b[1;32m    336\u001b[0m \u001b[38;5;124;03m\"\"\"\u001b[39;00m\n\u001b[0;32m--> 337\u001b[0m obj, end \u001b[38;5;241m=\u001b[39m \u001b[38;5;28;43mself\u001b[39;49m\u001b[38;5;241;43m.\u001b[39;49m\u001b[43mraw_decode\u001b[49m\u001b[43m(\u001b[49m\u001b[43ms\u001b[49m\u001b[43m,\u001b[49m\u001b[43m \u001b[49m\u001b[43midx\u001b[49m\u001b[38;5;241;43m=\u001b[39;49m\u001b[43m_w\u001b[49m\u001b[43m(\u001b[49m\u001b[43ms\u001b[49m\u001b[43m,\u001b[49m\u001b[43m \u001b[49m\u001b[38;5;241;43m0\u001b[39;49m\u001b[43m)\u001b[49m\u001b[38;5;241;43m.\u001b[39;49m\u001b[43mend\u001b[49m\u001b[43m(\u001b[49m\u001b[43m)\u001b[49m\u001b[43m)\u001b[49m\n\u001b[1;32m    338\u001b[0m end \u001b[38;5;241m=\u001b[39m _w(s, end)\u001b[38;5;241m.\u001b[39mend()\n",
      "File \u001b[0;32m~/customlib/homebrew/Caskroom/mambaforge/base/lib/python3.10/json/decoder.py:355\u001b[0m, in \u001b[0;36mJSONDecoder.raw_decode\u001b[0;34m(self, s, idx)\u001b[0m\n\u001b[1;32m    354\u001b[0m \u001b[38;5;28;01mexcept\u001b[39;00m \u001b[38;5;167;01mStopIteration\u001b[39;00m \u001b[38;5;28;01mas\u001b[39;00m err:\n\u001b[0;32m--> 355\u001b[0m     \u001b[38;5;28;01mraise\u001b[39;00m JSONDecodeError(\u001b[38;5;124m\"\u001b[39m\u001b[38;5;124mExpecting value\u001b[39m\u001b[38;5;124m\"\u001b[39m, s, err\u001b[38;5;241m.\u001b[39mvalue) \u001b[38;5;28;01mfrom\u001b[39;00m \u001b[38;5;28;01mNone\u001b[39;00m\n\u001b[1;32m    356\u001b[0m \u001b[38;5;28;01mreturn\u001b[39;00m obj, end\n",
      "\u001b[0;31mJSONDecodeError\u001b[0m: Expecting value: line 1 column 1 (char 0)",
      "\nDuring handling of the above exception, another exception occurred:\n",
      "\u001b[0;31mJSONDecodeError\u001b[0m                           Traceback (most recent call last)",
      "File \u001b[0;32m~/customlib/homebrew/Caskroom/mambaforge/base/lib/python3.10/site-packages/pyld/documentloader/requests.py:72\u001b[0m, in \u001b[0;36mrequests_document_loader.<locals>.loader\u001b[0;34m(url, options)\u001b[0m\n\u001b[1;32m     67\u001b[0m     content_type \u001b[38;5;241m=\u001b[39m \u001b[38;5;124m'\u001b[39m\u001b[38;5;124mapplication/octet-stream\u001b[39m\u001b[38;5;124m'\u001b[39m\n\u001b[1;32m     68\u001b[0m doc \u001b[38;5;241m=\u001b[39m {\n\u001b[1;32m     69\u001b[0m     \u001b[38;5;124m'\u001b[39m\u001b[38;5;124mcontentType\u001b[39m\u001b[38;5;124m'\u001b[39m: content_type,\n\u001b[1;32m     70\u001b[0m     \u001b[38;5;124m'\u001b[39m\u001b[38;5;124mcontextUrl\u001b[39m\u001b[38;5;124m'\u001b[39m: \u001b[38;5;28;01mNone\u001b[39;00m,\n\u001b[1;32m     71\u001b[0m     \u001b[38;5;124m'\u001b[39m\u001b[38;5;124mdocumentUrl\u001b[39m\u001b[38;5;124m'\u001b[39m: response\u001b[38;5;241m.\u001b[39murl,\n\u001b[0;32m---> 72\u001b[0m     \u001b[38;5;124m'\u001b[39m\u001b[38;5;124mdocument\u001b[39m\u001b[38;5;124m'\u001b[39m: \u001b[43mresponse\u001b[49m\u001b[38;5;241;43m.\u001b[39;49m\u001b[43mjson\u001b[49m\u001b[43m(\u001b[49m\u001b[43m)\u001b[49m\n\u001b[1;32m     73\u001b[0m }\n\u001b[1;32m     74\u001b[0m link_header \u001b[38;5;241m=\u001b[39m response\u001b[38;5;241m.\u001b[39mheaders\u001b[38;5;241m.\u001b[39mget(\u001b[38;5;124m'\u001b[39m\u001b[38;5;124mlink\u001b[39m\u001b[38;5;124m'\u001b[39m)\n",
      "File \u001b[0;32m~/customlib/homebrew/Caskroom/mambaforge/base/lib/python3.10/site-packages/requests/models.py:978\u001b[0m, in \u001b[0;36mResponse.json\u001b[0;34m(self, **kwargs)\u001b[0m\n\u001b[1;32m    975\u001b[0m \u001b[38;5;28;01mexcept\u001b[39;00m JSONDecodeError \u001b[38;5;28;01mas\u001b[39;00m e:\n\u001b[1;32m    976\u001b[0m     \u001b[38;5;66;03m# Catch JSON-related errors and raise as requests.JSONDecodeError\u001b[39;00m\n\u001b[1;32m    977\u001b[0m     \u001b[38;5;66;03m# This aliases json.JSONDecodeError and simplejson.JSONDecodeError\u001b[39;00m\n\u001b[0;32m--> 978\u001b[0m     \u001b[38;5;28;01mraise\u001b[39;00m RequestsJSONDecodeError(e\u001b[38;5;241m.\u001b[39mmsg, e\u001b[38;5;241m.\u001b[39mdoc, e\u001b[38;5;241m.\u001b[39mpos)\n",
      "\u001b[0;31mJSONDecodeError\u001b[0m: Expecting value: line 1 column 1 (char 0)",
      "\nDuring handling of the above exception, another exception occurred:\n",
      "\u001b[0;31mJsonLdError\u001b[0m                               Traceback (most recent call last)",
      "Cell \u001b[0;32mIn[109], line 1\u001b[0m\n\u001b[0;32m----> 1\u001b[0m \u001b[43mjsonld\u001b[49m\u001b[38;5;241;43m.\u001b[39;49m\u001b[43mexpand\u001b[49m\u001b[43m(\u001b[49m\u001b[38;5;124;43m'\u001b[39;49m\u001b[38;5;124;43mhttps://wcrp-cmip.github.io/WCRP-universe/realm/graph.jsonld\u001b[39;49m\u001b[38;5;124;43m'\u001b[39;49m\u001b[43m)\u001b[49m\n",
      "File \u001b[0;32m~/customlib/homebrew/Caskroom/mambaforge/base/lib/python3.10/site-packages/pyld/jsonld.py:163\u001b[0m, in \u001b[0;36mexpand\u001b[0;34m(input_, options)\u001b[0m\n\u001b[1;32m    145\u001b[0m \u001b[38;5;28;01mdef\u001b[39;00m \u001b[38;5;21mexpand\u001b[39m(input_, options\u001b[38;5;241m=\u001b[39m\u001b[38;5;28;01mNone\u001b[39;00m):\n\u001b[1;32m    146\u001b[0m \u001b[38;5;250m    \u001b[39m\u001b[38;5;124;03m\"\"\"\u001b[39;00m\n\u001b[1;32m    147\u001b[0m \u001b[38;5;124;03m    Performs JSON-LD expansion.\u001b[39;00m\n\u001b[1;32m    148\u001b[0m \n\u001b[0;32m   (...)\u001b[0m\n\u001b[1;32m    161\u001b[0m \u001b[38;5;124;03m    :return: the expanded JSON-LD output.\u001b[39;00m\n\u001b[1;32m    162\u001b[0m \u001b[38;5;124;03m    \"\"\"\u001b[39;00m\n\u001b[0;32m--> 163\u001b[0m     \u001b[38;5;28;01mreturn\u001b[39;00m \u001b[43mJsonLdProcessor\u001b[49m\u001b[43m(\u001b[49m\u001b[43m)\u001b[49m\u001b[38;5;241;43m.\u001b[39;49m\u001b[43mexpand\u001b[49m\u001b[43m(\u001b[49m\u001b[43minput_\u001b[49m\u001b[43m,\u001b[49m\u001b[43m \u001b[49m\u001b[43moptions\u001b[49m\u001b[43m)\u001b[49m\n",
      "File \u001b[0;32m~/customlib/homebrew/Caskroom/mambaforge/base/lib/python3.10/site-packages/pyld/jsonld.py:820\u001b[0m, in \u001b[0;36mJsonLdProcessor.expand\u001b[0;34m(self, input_, options)\u001b[0m\n\u001b[1;32m    818\u001b[0m \u001b[38;5;66;03m# if input is a string, attempt to dereference remote document\u001b[39;00m\n\u001b[1;32m    819\u001b[0m \u001b[38;5;28;01mif\u001b[39;00m _is_string(input_):\n\u001b[0;32m--> 820\u001b[0m     remote_doc \u001b[38;5;241m=\u001b[39m \u001b[43mload_document\u001b[49m\u001b[43m(\u001b[49m\u001b[43minput_\u001b[49m\u001b[43m,\u001b[49m\u001b[43m \u001b[49m\u001b[43moptions\u001b[49m\u001b[43m)\u001b[49m\n\u001b[1;32m    821\u001b[0m \u001b[38;5;28;01melse\u001b[39;00m:\n\u001b[1;32m    822\u001b[0m     remote_doc \u001b[38;5;241m=\u001b[39m {\n\u001b[1;32m    823\u001b[0m         \u001b[38;5;124m'\u001b[39m\u001b[38;5;124mcontextUrl\u001b[39m\u001b[38;5;124m'\u001b[39m: \u001b[38;5;28;01mNone\u001b[39;00m,\n\u001b[1;32m    824\u001b[0m         \u001b[38;5;124m'\u001b[39m\u001b[38;5;124mdocumentUrl\u001b[39m\u001b[38;5;124m'\u001b[39m: \u001b[38;5;28;01mNone\u001b[39;00m,\n\u001b[1;32m    825\u001b[0m         \u001b[38;5;124m'\u001b[39m\u001b[38;5;124mdocument\u001b[39m\u001b[38;5;124m'\u001b[39m: input_\n\u001b[1;32m    826\u001b[0m     }\n",
      "File \u001b[0;32m~/customlib/homebrew/Caskroom/mambaforge/base/lib/python3.10/site-packages/pyld/jsonld.py:6583\u001b[0m, in \u001b[0;36mload_document\u001b[0;34m(url, options, base, profile, requestProfile)\u001b[0m\n\u001b[1;32m   6581\u001b[0m \u001b[38;5;28;01mif\u001b[39;00m \u001b[38;5;124m'\u001b[39m\u001b[38;5;124mheaders\u001b[39m\u001b[38;5;124m'\u001b[39m \u001b[38;5;129;01mnot\u001b[39;00m \u001b[38;5;129;01min\u001b[39;00m options:\n\u001b[1;32m   6582\u001b[0m     options[\u001b[38;5;124m'\u001b[39m\u001b[38;5;124mheaders\u001b[39m\u001b[38;5;124m'\u001b[39m] \u001b[38;5;241m=\u001b[39m headers\n\u001b[0;32m-> 6583\u001b[0m remote_doc \u001b[38;5;241m=\u001b[39m \u001b[43moptions\u001b[49m\u001b[43m[\u001b[49m\u001b[38;5;124;43m'\u001b[39;49m\u001b[38;5;124;43mdocumentLoader\u001b[39;49m\u001b[38;5;124;43m'\u001b[39;49m\u001b[43m]\u001b[49m\u001b[43m(\u001b[49m\u001b[43murl\u001b[49m\u001b[43m,\u001b[49m\u001b[43m \u001b[49m\u001b[43moptions\u001b[49m\u001b[43m)\u001b[49m\n\u001b[1;32m   6584\u001b[0m \u001b[38;5;28;01mif\u001b[39;00m base:\n\u001b[1;32m   6585\u001b[0m     remote_doc[\u001b[38;5;124m'\u001b[39m\u001b[38;5;124mdocumentUrl\u001b[39m\u001b[38;5;124m'\u001b[39m] \u001b[38;5;241m=\u001b[39m base\n",
      "File \u001b[0;32m~/customlib/homebrew/Caskroom/mambaforge/base/lib/python3.10/site-packages/pyld/documentloader/requests.py:100\u001b[0m, in \u001b[0;36mrequests_document_loader.<locals>.loader\u001b[0;34m(url, options)\u001b[0m\n\u001b[1;32m     98\u001b[0m     \u001b[38;5;28;01mraise\u001b[39;00m e\n\u001b[1;32m     99\u001b[0m \u001b[38;5;28;01mexcept\u001b[39;00m \u001b[38;5;167;01mException\u001b[39;00m \u001b[38;5;28;01mas\u001b[39;00m cause:\n\u001b[0;32m--> 100\u001b[0m     \u001b[38;5;28;01mraise\u001b[39;00m JsonLdError(\n\u001b[1;32m    101\u001b[0m         \u001b[38;5;124m'\u001b[39m\u001b[38;5;124mCould not retrieve a JSON-LD document from the URL.\u001b[39m\u001b[38;5;124m'\u001b[39m,\n\u001b[1;32m    102\u001b[0m         \u001b[38;5;124m'\u001b[39m\u001b[38;5;124mjsonld.LoadDocumentError\u001b[39m\u001b[38;5;124m'\u001b[39m, code\u001b[38;5;241m=\u001b[39m\u001b[38;5;124m'\u001b[39m\u001b[38;5;124mloading document failed\u001b[39m\u001b[38;5;124m'\u001b[39m,\n\u001b[1;32m    103\u001b[0m         cause\u001b[38;5;241m=\u001b[39mcause)\n",
      "\u001b[0;31mJsonLdError\u001b[0m: ('Could not retrieve a JSON-LD document from the URL.',)\nType: jsonld.LoadDocumentError\nCode: loading document failed\nCause: Expecting value: line 1 column 1 (char 0)  File \"/Users/daniel.ellis/customlib/homebrew/Caskroom/mambaforge/base/lib/python3.10/site-packages/pyld/documentloader/requests.py\", line 72, in loader\n    'document': response.json()\n  File \"/Users/daniel.ellis/customlib/homebrew/Caskroom/mambaforge/base/lib/python3.10/site-packages/requests/models.py\", line 978, in json\n    raise RequestsJSONDecodeError(e.msg, e.doc, e.pos)\n"
     ]
    }
   ],
   "source": [
    "jsonld.expand('https://wcrp-cmip.github.io/WCRP-universe/realm/graph.jsonld')"
   ]
  },
  {
   "cell_type": "code",
   "execution_count": null,
   "metadata": {},
   "outputs": [],
   "source": []
  }
 ],
 "metadata": {
  "kernelspec": {
   "display_name": "base",
   "language": "python",
   "name": "python3"
  },
  "language_info": {
   "codemirror_mode": {
    "name": "ipython",
    "version": 3
   },
   "file_extension": ".py",
   "mimetype": "text/x-python",
   "name": "python",
   "nbconvert_exporter": "python",
   "pygments_lexer": "ipython3",
   "version": "3.10.10"
  }
 },
 "nbformat": 4,
 "nbformat_minor": 2
}
