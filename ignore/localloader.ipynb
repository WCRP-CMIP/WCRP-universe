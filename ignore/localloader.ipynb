{
 "cells": [
  {
   "cell_type": "code",
   "execution_count": null,
   "metadata": {},
   "outputs": [],
   "source": [
    "from pyld import jsonld\n",
    "from urllib.parse import urlparse\n",
    "import os \n",
    "from urllib.parse import urlparse, urlunparse, urljoin\n",
    "\n",
    "# jsonld.set_document_loader(jsonld.aiohttp_document_loader(timeout=...))"
   ]
  },
  {
   "cell_type": "code",
   "execution_count": null,
   "metadata": {},
   "outputs": [],
   "source": [
    "\n",
    "def get_relative_path(base_url, target_url):\n",
    "    \"\"\"\n",
    "    Computes the relative path from a base URL to a target URL.\n",
    "    \n",
    "    Parameters:\n",
    "    - base_url (str): The base URL.\n",
    "    - target_url (str): The target URL.\n",
    "    \n",
    "    Returns:\n",
    "    - str: The relative path from the base URL to the target URL.\n",
    "    \"\"\"\n",
    "    # Parse URLs\n",
    "    base_parsed = urlparse(base_url)\n",
    "    target_parsed = urlparse(target_url)\n",
    "\n",
    "    # Ensure both URLs share the same scheme and netloc\n",
    "    if base_parsed.scheme != target_parsed.scheme or base_parsed.netloc != target_parsed.netloc:\n",
    "        raise ValueError(\"Both URLs must have the same scheme and domain (netloc).\")\n",
    "    \n",
    "    # Compute relative path using os.path.relpath\n",
    "    base_path = base_parsed.path\n",
    "    target_path = target_parsed.path\n",
    "\n",
    "    # Normalize base path to ensure directory-like behavior\n",
    "    if not base_path.endswith('/'):\n",
    "        base_path = os.path.dirname(base_path) + '/'\n",
    "\n",
    "    relative_path = os.path.relpath(target_path, start=base_path)\n",
    "\n",
    "    return relative_path"
   ]
  },
  {
   "cell_type": "code",
   "execution_count": null,
   "metadata": {},
   "outputs": [],
   "source": [
    "\n",
    "def local_document_loader(base_local_path):\n",
    "    \"\"\"\n",
    "    Returns a custom document loader that rewrites URLs to local paths.\n",
    "    \n",
    "    Parameters:\n",
    "    - base_local_path (str): Base directory path for local resources.\n",
    "\n",
    "    Returns:\n",
    "    - Callable: A custom document loader function.\n",
    "    \"\"\"\n",
    "    original_loader = jsonld.requests_document_loader()\n",
    "\n",
    "    def loader(url,options):\n",
    "        # Rewrite the URL to a local path\n",
    "        print(options)\n",
    "        # parsed_url = urlparse(url)\n",
    "        # local_path = f\"{base_local_path}{parsed_url.path}\"\n",
    "        local_path = get_relative_path(base_local_path, url)\n",
    "        # print(parsed_url)\n",
    "\n",
    "        # Read the local file instead of fetching the URL\n",
    "        try:\n",
    "            with open('./src-data/'+local_path, 'r', encoding='utf-8') as file:\n",
    "                local_data = file.read()\n",
    "            return {\n",
    "                \"contextUrl\": None,  # Remote context URLs aren't rewritten here\n",
    "                \"documentUrl\": url,  # Keep the original document URL for reference\n",
    "                \"document\": local_data\n",
    "            }\n",
    "        except FileNotFoundError:\n",
    "            raise RuntimeError(f\"Local path not found for {url}: {local_path}\")\n",
    "        # original_loader(url,options)\n",
    "\n",
    "    return loader\n",
    "\n"
   ]
  },
  {
   "cell_type": "code",
   "execution_count": null,
   "metadata": {},
   "outputs": [],
   "source": [
    "repo = os.popen(\"git remote get-url origin\").read().replace('.git','').strip('\\n').split('/')[-2:]\n",
    "base_local_path = f'https://{repo[0].lower()}.github.io/{repo[1]}/'\n",
    "\n",
    "# Set the custom document loader\n",
    "loader = local_document_loader(base_local_path)\n",
    "jsonld.set_document_loader(loader)\n",
    "\n",
    "base_local_path\n"
   ]
  },
  {
   "cell_type": "code",
   "execution_count": null,
   "metadata": {},
   "outputs": [],
   "source": [
    "# Expand the JSON-LD document\n",
    "expanded = jsonld.expand('https://wcrp-cmip.github.io/WCRP-universe/realm/atmos.json',options={'documentLoader': loader})\n",
    "print(expanded)"
   ]
  },
  {
   "cell_type": "code",
   "execution_count": null,
   "metadata": {},
   "outputs": [],
   "source": [
    "local_document_loader('./')"
   ]
  },
  {
   "cell_type": "code",
   "execution_count": null,
   "metadata": {},
   "outputs": [],
   "source": [
    "get_relative_path(base_local_path,'https://wcrp-cmip.github.io/WCRP-universe/realm/atmos.json')"
   ]
  },
  {
   "cell_type": "code",
   "execution_count": 2,
   "metadata": {},
   "outputs": [],
   "source": [
    "# import aiohttp\n",
    "# import asyncio\n",
    "# from pyld import jsonld\n",
    "# # !pip install aiohttp\n",
    "# jsonld.set_document_loader(jsonld.aiohttp_document_loader(timeout=10))\n",
    "# asyncio.run(jsonld.expand('./src-data/realm/atmos.json'))\n",
    "\n",
    "# # ,options={'documentLoader': jsonld.aiohttp_document_loader(timeout=10)}))\n",
    "\n",
    "# asyncio.run(jsonld.expand('./src-data/realm/atmos.json'))"
   ]
  },
  {
   "cell_type": "code",
   "execution_count": null,
   "metadata": {},
   "outputs": [],
   "source": []
  },
  {
   "cell_type": "code",
   "execution_count": null,
   "metadata": {},
   "outputs": [],
   "source": []
  }
 ],
 "metadata": {
  "kernelspec": {
   "display_name": "base",
   "language": "python",
   "name": "python3"
  },
  "language_info": {
   "codemirror_mode": {
    "name": "ipython",
    "version": 3
   },
   "file_extension": ".py",
   "mimetype": "text/x-python",
   "name": "python",
   "nbconvert_exporter": "python",
   "pygments_lexer": "ipython3",
   "version": "3.10.10"
  }
 },
 "nbformat": 4,
 "nbformat_minor": 2
}
