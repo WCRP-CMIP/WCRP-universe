{
 "cells": [
  {
   "cell_type": "code",
   "execution_count": 27,
   "metadata": {},
   "outputs": [],
   "source": [
    "import requests\n",
    "import re\n",
    "import cmipld\n",
    "\n",
    "repo_url = cmipld.utils.git.url()\n",
    "\n",
    "# GitHub repository and issue details\n",
    "repo_owner = 'WCRP-CMIP'\n",
    "repo_name = 'WCRP-universe'\n",
    "issue_number = 2  # Replace with your issue number\n",
    "# github_token = 'your-github-token'  # Replace with your GitHub token\n",
    "\n",
    "# GitHub API URL for the issue\n",
    "url = f'https://api.github.com/repos/{repo_owner}/{repo_name}/issues/{issue_number}'\n",
    "# https://github.com/WCRP-CMIP/WCRP-universe/issues/2\n",
    "# Headers for authentication\n",
    "headers = {\n",
    "    # 'Authorization': f'token {github_token}',\n",
    "    'Accept': 'application/vnd.github.v3+json'\n",
    "}\n",
    "\n",
    "# Fetch the issue content\n",
    "response = requests.get(url, headers=headers)\n",
    "content = response.json()\n",
    "issue = content.get('body', '')\n",
    "labels_full = content.get('labels','')\n",
    "\n",
    "# name: Read Issue Content and Labels\n",
    "\n",
    "# on:\n",
    "#   issues:\n",
    "#     types: [opened, edited, labeled, unlabeled]\n",
    "\n",
    "# jobs:\n",
    "#   read-issue:\n",
    "#     runs-on: ubuntu-latest\n",
    "#     steps:\n",
    "#       - name: Read Issue Content and Labels\n",
    "#         uses: actions/github-script@v7\n",
    "#         with:\n",
    "#           github-token: ${{ secrets.GITHUB_TOKEN }}\n",
    "#           script: |\n",
    "#             const issue = context.payload.issue;\n",
    "#             console.log(`Issue Title: ${issue.title}`);\n",
    "#             console.log(`Issue Body: ${issue.body}`);\n",
    "#             console.log(`Issue Labels: ${issue.labels.map(label => label.name).join(', ')}`);\n"
   ]
  },
  {
   "cell_type": "code",
   "execution_count": 2,
   "metadata": {},
   "outputs": [],
   "source": [
    "import glob,os \n",
    "tloc = '../ISSUE_TEMPLATE/'\n",
    "\n",
    "# templates = glob.glob('../ISSUE_TEMPLATE/*.yml')\n",
    "# templates"
   ]
  },
  {
   "cell_type": "code",
   "execution_count": null,
   "metadata": {},
   "outputs": [],
   "source": [
    "# labels = [i['name']for i in labels_full]\n",
    "\n",
    "# if 'alpha' in labels:\n",
    "#     labels.remove('alpha')\n",
    "#     prefix='add_'\n",
    "# elif 'delta' in labels:\n",
    "#     labels.remove('delta')\n",
    "#     prefix='modify_'\n",
    "# else: \n",
    "#     prefix = ''\n",
    "    \n",
    "# # find the relevant form\n"
   ]
  },
  {
   "cell_type": "code",
   "execution_count": 5,
   "metadata": {},
   "outputs": [
    {
     "data": {
      "text/plain": [
       "'### Issue Type\\n\\ninstitution\\n\\n### Acronym\\n\\ntest\\n\\n### Full name of the organisation.\\n\\ntest\\n\\n### ROR\\n\\n1w897891273\\n\\n### Other Notes\\n\\nhello'"
      ]
     },
     "execution_count": 5,
     "metadata": {},
     "output_type": "execute_result"
    }
   ],
   "source": [
    "issue"
   ]
  },
  {
   "cell_type": "code",
   "execution_count": 28,
   "metadata": {},
   "outputs": [
    {
     "name": "stdout",
     "output_type": "stream",
     "text": [
      "{\n",
      "    \"issue_type\": \"institution\",\n",
      "    \"acronym\": \"UCLA\",\n",
      "    \"full_name_of_the_organisation.\": \"University of California, Los Angeles\",\n",
      "    \"ror\": \"046rm7j60\",\n",
      "    \"other_notes\": \"reference issue on mip-cmor-tables by [znichollscr](https://github.com/znichollscr)\"\n",
      "}\n"
     ]
    }
   ],
   "source": [
    "import json\n",
    "\n",
    "def parse_issue_body(issue_body):\n",
    "    lines = issue_body.split('\\n')\n",
    "    issue_data = {}\n",
    "    current_key = None\n",
    "\n",
    "    for line in lines:\n",
    "        if line.startswith('### '):\n",
    "            current_key = line[4:].strip().replace(' ', '_').lower()\n",
    "            issue_data[current_key] = ''\n",
    "        elif current_key:\n",
    "            issue_data[current_key] += line.strip() + ' '\n",
    "\n",
    "    # Remove trailing spaces\n",
    "    for key in issue_data:\n",
    "        issue_data[key] = issue_data[key].strip()\n",
    "    return issue_data\n",
    "    # return json.dumps(issue_data, indent=4)\n",
    "\n",
    "parsed_issue = parse_issue_body(issue)\n",
    "print(json.dumps(parsed_issue,indent=4))"
   ]
  },
  {
   "cell_type": "code",
   "execution_count": 31,
   "metadata": {},
   "outputs": [
    {
     "name": "stdout",
     "output_type": "stream",
     "text": [
      "Successfully loaded ../ISSUE_TEMPLATE/../ISSUE_SCRIPT/institution.py\n",
      "<module 'institution' from '/Users/daniel.ellis/WIPwork/WCRP-universe/.github/ISSUE_SCRIPT/../ISSUE_TEMPLATE/../ISSUE_SCRIPT/institution.py'>\n",
      "issue {'issue_type': 'institution', 'acronym': 'UCLA', 'full_name_of_the_organisation.': 'University of California, Los Angeles', 'ror': '046rm7j60', 'other_notes': 'reference issue on mip-cmor-tables by [znichollscr](https://github.com/znichollscr)'}\n"
     ]
    }
   ],
   "source": [
    "import os\n",
    "\n",
    "import importlib.util\n",
    "\n",
    "# Extract the issue_type from the parsed issue\n",
    "# issue_data = json.loads(parsed_issue)\n",
    "issue_type = parsed_issue.get('issue_type', '')\n",
    "\n",
    "path = '../ISSUE_SCRIPT/'\n",
    "\n",
    "\n",
    "# Define the path to the script based on the issue_type\n",
    "script_path = os.path.join(tloc, f\"{path}{issue_type}.py\")\n",
    "\n",
    "# Check if the script exists\n",
    "if os.path.exists(script_path):\n",
    "    # Load the script dynamically\n",
    "    spec = importlib.util.spec_from_file_location(issue_type, script_path)\n",
    "    module = importlib.util.module_from_spec(spec)\n",
    "    spec.loader.exec_module(module)\n",
    "    print(f\"Successfully loaded {script_path}\")\n",
    "else:\n",
    "    print(f\"Script {script_path} does not exist\")\n",
    "    \n",
    "    \n",
    "print(module)\n",
    "\n",
    "module.run(parsed_issue,parsed_issue)"
   ]
  },
  {
   "cell_type": "code",
   "execution_count": 25,
   "metadata": {},
   "outputs": [
    {
     "name": "stdout",
     "output_type": "stream",
     "text": [
      "make test for url2io\n",
      "{\n",
      "    \"id\": \"universal:organisations/ucla\",\n",
      "    \"type\": [\n",
      "        \"wcrp:organisation\",\n",
      "        \"wcrp:institution\",\n",
      "        \"universal\"\n",
      "    ],\n",
      "    \"label\": \"UCLA\",\n",
      "    \"ror\": \"046rm7j60\",\n",
      "    \"long_label\": \"University of California, Los Angeles\",\n",
      "    \"url\": [\n",
      "        \"https://www.ucla.edu\"\n",
      "    ],\n",
      "    \"established\": 1919,\n",
      "    \"kind\": \"Education\",\n",
      "    \"labels\": [],\n",
      "    \"aliases\": [\n",
      "        \"State Normal School at Los Angeles\",\n",
      "        \"University of California Southern Branch\",\n",
      "        \"University of California at Los Angeles\"\n",
      "    ],\n",
      "    \"acronyms\": [\n",
      "        \"UCLA\"\n",
      "    ],\n",
      "    \"location\": {\n",
      "        \"@id\": \"universal:location/046rm7j60\",\n",
      "        \"@type\": \"wcrp:location\",\n",
      "        \"lat\": 34.05223,\n",
      "        \"lon\": 34.05223,\n",
      "        \"city\": \"Los Angeles\",\n",
      "        \"country\": [\n",
      "            \"United States\",\n",
      "            \"US\"\n",
      "        ]\n",
      "    }\n",
      "}\n"
     ]
    }
   ],
   "source": [
    "\n",
    "\n",
    "\n",
    "\n",
    "\n",
    "# add sanitasion functons. \n",
    "\n",
    "ror_template = 'https://api.ror.org/organizations/{}'\n",
    "\n",
    "url = ror_template.format(parsed_issue['ror'])\n",
    "\n",
    "ror_data = cmipld.utils.read_url(url)\n",
    "\n",
    "if ror_data:\n",
    "\n",
    "    cmip_acronym = parsed_issue['acronym'].replace('_','-')\n",
    "    \n",
    "    ror_data =  {\n",
    "        \"id\": f\"{whoami}:organisations/{cmip_acronym.lower()}\",\n",
    "        \"type\": ['wcrp:organisation','wcrp:institution','universal'],\n",
    "        \"label\": cmip_acronym,\n",
    "        \"ror\": ror_data['id'].split('/')[-1],\n",
    "        \"long_label\": ror_data['name'],\n",
    "        \"url\": ror_data.get('links', []) ,\n",
    "        \"established\": ror_data.get('established'),\n",
    "        \"kind\": ror_data.get('types', [])[0] if ror_data.get('types') else None,\n",
    "        \"labels\": [i['label'] for i in ror_data.get('lables', [])],\n",
    "        \"aliases\": ror_data.get('aliases', []),\n",
    "        \"acronyms\": ror_data.get('acronyms', []),\n",
    "        \"location\": {\n",
    "            \"@id\": f\"universal:location/{ror_data['id'].split('/')[-1]}\",\n",
    "            \"@type\": \"wcrp:location\",\n",
    "            \"lat\":  ror_data['addresses'][0].get('lat') if ror_data.get('addresses') else None,\n",
    "            \"lon\":  ror_data['addresses'][0].get('lat') if ror_data.get('addresses') else None,\n",
    "            \"city\": ror_data['addresses'][0].get('city') if ror_data.get('addresses') else None,\n",
    "            \"country\": list(ror_data['country'].values())  if ror_data.get('country') else None\n",
    "        \n",
    "        }         \n",
    "        #  can reverse match consortiums or members from here.    \n",
    "        \n",
    "    }\n",
    "\n",
    "print(json.dumps(ror_data,indent=4))"
   ]
  },
  {
   "cell_type": "code",
   "execution_count": null,
   "metadata": {},
   "outputs": [],
   "source": [
    "def similarity(name1, name2):\n",
    "    from difflib import SequenceMatcher\n",
    "   \n",
    "    matcher = SequenceMatcher(None, name1, name2)\n",
    "    similarity = matcher.ratio() * 100\n",
    "\n",
    "    return similarity\n",
    "\n"
   ]
  },
  {
   "cell_type": "code",
   "execution_count": null,
   "metadata": {},
   "outputs": [],
   "source": []
  }
 ],
 "metadata": {
  "kernelspec": {
   "display_name": "base",
   "language": "python",
   "name": "python3"
  },
  "language_info": {
   "codemirror_mode": {
    "name": "ipython",
    "version": 3
   },
   "file_extension": ".py",
   "mimetype": "text/x-python",
   "name": "python",
   "nbconvert_exporter": "python",
   "pygments_lexer": "ipython3",
   "version": "3.10.10"
  }
 },
 "nbformat": 4,
 "nbformat_minor": 2
}
